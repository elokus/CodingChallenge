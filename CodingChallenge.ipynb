{
 "cells": [
  {
   "cell_type": "markdown",
   "source": [
    "# Teil 1: Semantische Suche\n",
    "PDF-Dokumente: Dir werden PDF-Dokumente mit definiertem Inhalt bereitgestellt.\n",
    "Such-Tool Entwicklung: Erstelle ein Stück Software, in dem du Suchanfragen von Nutzern eingeben kannst. Es reicht dabei, wenn das im Code direkt passiert, es muss keine UI o.ä. entwickelt werden. Es ist ebenfalls kein Interface für das Hochladen oder Auswählen der PDFs nötig, auf diese kann einfach per Dateisystem an fixer Stelle zugegriffen werden.\n",
    "Semantische Suche: Identifiziere relevante Abschnitte in den PDF-Dokumenten basierend auf den Benutzeranfragen mittels semantischer Suche. Es reicht dabei, wenn die produzierten Daten nur flüchtig vorgehalten werden, es muss nicht zwingend persistiert werden.\n",
    "Antwort-Generierung: Generiere und präsentiere die Antworten mit Hilfe der Ergebnisse der semantischen Suche und des LLM. Es reicht auch hierbei ein einfacher Output auf stdout o.ä..\n",
    "\n",
    "\n",
    "## Anmerkung:\n",
    "Da wir hier viel mit tabellarischen Daten arbeiten, wäre hier ein multimodaler Ansatz nützlich. Also neben den extrahierten Texten auch die Tabellen und PDF seiten als Bilddaten zu speichern und mit der semantischen Suche zu verknüpfen. Alternativ kann man die Multimodalen Fähigkeiten von GPT-4 nutzen um aus den Bildern die Tabellen Daten zu extrahieren und in einer \"object_map\" an ein DataFrame zu verknüpfen."
   ],
   "metadata": {
    "collapsed": false
   },
   "id": "8f9b2ae44f346da1"
  },
  {
   "cell_type": "markdown",
   "source": [
    "### VectorStore und Index vorbereiten"
   ],
   "metadata": {
    "collapsed": false
   },
   "id": "5a43c04fa00b6630"
  },
  {
   "cell_type": "code",
   "execution_count": 1,
   "id": "initial_id",
   "metadata": {
    "collapsed": true,
    "ExecuteTime": {
     "end_time": "2024-02-20T09:32:30.500604Z",
     "start_time": "2024-02-20T09:32:24.865965300Z"
    }
   },
   "outputs": [],
   "source": [
    "from main import prepare_index, query\n",
    "import os\n",
    "\n",
    "\n",
    "persist_dir = \"challenge_index\"\n",
    "\n",
    "index, storage = prepare_index([], load_dir=persist_dir)\n"
   ]
  },
  {
   "cell_type": "markdown",
   "source": [
    "#### Query ausführen"
   ],
   "metadata": {
    "collapsed": false
   },
   "id": "2ca649d3bf78728a"
  },
  {
   "cell_type": "code",
   "outputs": [
    {
     "name": "stdout",
     "output_type": "stream",
     "text": [
      "=== Antwort ===\n",
      "3500 Stunden\n",
      "\n",
      "=== Quellen (Top 2) ===\n",
      "Metadata:\n",
      "{'page_label': '2', 'file_name': 'ZMP_1007187_XBO_2000_W_HTP_XL_OFR.pdf', 'file_path': 'data\\\\coding_challenge\\\\ZMP_1007187_XBO_2000_W_HTP_XL_OFR.pdf', 'file_type': 'application/pdf', 'file_size': 136057, 'creation_date': '1980-01-01', 'last_modified_date': '2024-02-20', 'last_accessed_date': '2024-02-20', 'document_title': 'XBO 2000 W/HTP XL OFR-Lampenmodell Technische Daten', 'title': 'XBO 2000 W/HTP XL OFR-Lampenmodell Technische Daten', 'power': 2000, 'lifespan': 3500}\n",
      "Quellcontent:\n",
      "Technische Daten\n",
      "Elektrische Daten\n",
      "Nennstrom 70,00 A\n",
      "Stromsteuerbereich 50…85 A\n",
      "Nennleistung 2000,00 W\n",
      "Nennspannung 28,0 V\n",
      "Abmessungen & Gewicht\n",
      " \n",
      "Durchmesser 52,0 mm\n",
      "Länge 375,0 mm\n",
      "Länge mit Sockel jedoch ohne Sockelstift 322,00 mm\n",
      "Abstand Lichtschwerpunkt (LCL) 142,5 mm 1)\n",
      "Kabel-/Leitungslänge, Eingangsseite -\n",
      "Elektrodenabstand kalt 5,8 mm\n",
      "Produktgewicht 452,00 g\n",
      "1) Abstand Sockelboden zu Elektrodenspitze (kalt)\n",
      "Temperaturen & Betriebsbedingungen\n",
      "Max. zulässige Umgebungstemp. Quetschung 230 °C\n",
      "Lebensdauer\n",
      "Lebensdauer 3500 h\n",
      "Zusätzliche Produktdaten\n",
      "Sockel Anode (Normbezeichnung) SFa25-14\n",
      "Sockel Kathode (Normbezeichnung) SFc25-14\n",
      "EinsatzmöglichkeitenProduktdatenblatt\n",
      "__\n",
      "8. Januar 2024, 22:14:04 © 2024, OSRAM GmbH. Alle Rechte vorbehalten.\n",
      "XBO 2000 W/HTP XL OFR Seite 2 von 4\n",
      "-----------------------------------\n",
      "\n",
      "Metadata:\n",
      "{'page_label': '2', 'file_name': 'ZMP_1200637_XBO_2000_W_HS_OFR.pdf', 'file_path': 'data\\\\coding_challenge\\\\ZMP_1200637_XBO_2000_W_HS_OFR.pdf', 'file_type': 'application/pdf', 'file_size': 136224, 'creation_date': '1980-01-01', 'last_modified_date': '2024-02-20', 'last_accessed_date': '2024-02-20', 'document_title': 'Technische Daten der XBO 2000 W/HS OFR Lampe: Spezifikationen, Leistung und Anwendungsbereiche', 'title': 'Technische Daten der XBO 2000 W/HS OFR Lampe: Spezifikationen, Leistung und Anwendungsbereiche', 'power': 2000, 'lifespan': 2400}\n",
      "Quellcontent:\n",
      "Technische Daten\n",
      "Elektrische Daten\n",
      "Nennstrom 80 A\n",
      "Stromsteuerbereich 50…85 A\n",
      "Nennleistung 2000,00 W\n",
      "Nennspannung 24,0 V\n",
      "Abmessungen & Gewicht\n",
      " \n",
      "Durchmesser 60,0 mm\n",
      "Länge 342,0 mm\n",
      "Länge mit Sockel jedoch ohne Sockelstift 302,00 mm\n",
      "Abstand Lichtschwerpunkt (LCL) 145,0 mm 1)\n",
      "Elektrodenabstand kalt 5,0 mm\n",
      "Produktgewicht 490,00 g\n",
      "Kabellänge 300,0\n",
      "1) Abstand Sockelboden zu Elektrodenspitze (kalt)\n",
      "Temperaturen & Betriebsbedingungen\n",
      "Max. zulässige Umgebungstemp. Quetschung 230 °C\n",
      "Lebensdauer\n",
      "Lebensdauer 2400 h\n",
      "Zusätzliche Produktdaten\n",
      "Sockel Anode (Normbezeichnung) SFaX27-9.5\n",
      "Sockel Kathode (Normbezeichnung) SFa27-7.9\n",
      "Anmerkung zum Produkt H = horizontale Brennlage/S = kurze Bauform (short)Produktdatenblatt\n",
      "__\n",
      "8. Januar 2024, 22:14:04 © 2024, OSRAM GmbH. Alle Rechte vorbehalten.\n",
      "XBO 2000 W/HS OFR Seite 2 von 4\n",
      "-----------------------------------\n"
     ]
    }
   ],
   "source": [
    "query_str = \"Wie ist die Lebensdauer der XBO 2000 W/HTP XL OFR-Lampe?\"\n",
    "response = query(query_str, index)\n",
    "\n",
    "# die Ergebnisse der semantischen Suche\n",
    "# >>> response.source_nodes\n",
    "\n",
    "# die Antworten\n",
    "# >>> response.response"
   ],
   "metadata": {
    "collapsed": false,
    "ExecuteTime": {
     "end_time": "2024-02-20T09:32:40.791521700Z",
     "start_time": "2024-02-20T09:32:39.570135800Z"
    }
   },
   "id": "effef906da3d20dd",
   "execution_count": 2
  },
  {
   "cell_type": "markdown",
   "source": [],
   "metadata": {
    "collapsed": false
   },
   "id": "a8115d96c1481aa"
  },
  {
   "cell_type": "markdown",
   "source": [
    "# Teil 2: Skalierung\n",
    "Funktioniert deine Lösung auch für 500 PDFs? Was gibt es bei so vielen PDFs zu beachten? Wo sind bottlenecks oder etwaige Probleme zu erwarten?\n",
    "Wie würde man es lösen, wenn der Nutzer fragt: ‘Gebe mir alle Leuchtmittel mit mindestens 1500W und einer Lebensdauer von mehr als 3000 Stunden’?\n",
    "\n",
    "## Antwort Skalierbarkeit:\n",
    "\n",
    "In der Lösung zu Teil 1 wurde eine lokaler VectorStore benutzt der die Daten im Arbeitsspeicher hält. Dies ist nicht skalierbar, da der Arbeitsspeicher begrenzt ist.\n",
    "\n",
    "Um die Skalierbarkeit zu gewährleisten würde man hier auf einen Anbieter wie Pinecone zurückgreifen. Dafür habe ich der Initialisierungs Funktion ein Argument hinzugefügt, dass es ermöglicht einen anderen VectorStore zu initialisieren. \n",
    "\n",
    "```python\n",
    "from scripts.core import initialize_storage, initialize_index\n",
    "from llama_index.vector_stores.pinecone import PineconeVectorStore\n",
    "import pinecone\n",
    "\n",
    "# ... load the documents ...\n",
    "\n",
    "# init pinecone\n",
    "pinecone.init(api_key=\"<api_key>\", environment=\"<environment>\")\n",
    "pinecone.create_index(\n",
    "    \"collection\", dimension=1536, metric=\"euclidean\", pod_type=\"p1\"\n",
    ")\n",
    "\n",
    "vector_store = PineconeVectorStore(pinecone.Index(\"quickstart\"))\n",
    "\n",
    "storage = initialize_storage(vector_store=vector_store)\n",
    "index = initialize_index(storage, docs)\n",
    "\n",
    "```\n",
    "\n",
    "### Bottlenecks:\n",
    "\n",
    "Beim indexieren der Dokumente und beim erstellen der Vektoren:\n",
    "- Memory: Die Datenmenge kann nicht im Arbeitsspeicher gehalten werden\n",
    "- CPU: Die Berechnung der Vektoren kann sehr rechenintensiv sein\n",
    "- Rate Limit bei embedding Erstellung seitens OpenAI\n",
    "\n",
    "Beim Suchen:\n",
    "- Irrlevante Ergebnisse: Die semantische Suche kann auch irrelevante Ergebnisse liefern\n",
    "- Performance: Die Suche kann sehr langsam sein sofern die Datenmenge auf lokale Hardware beschränkt ist\n",
    "\n",
    "\n",
    "\n",
    "# Teil 2.1: Metadata Filter\n",
    "\n",
    "Um die Anfrage \"Gebe mir alle Leuchtmittel mit mindestens 1500W und einer Lebensdauer von mehr als 3000 Stunden\" zu bearbeiten, wäre gerade im Kontext hoher Anzahl an Dokumenten ein Filter auf Metadaten sinnvoll. Alternativ könnte man die selbe Frage auch im Postprocessing Schritt filtern. Jedoch wäre das nicht gerade kosteneffizient.\n",
    "Pinecone bietet die Möglichkeit direkt über operatoren \"$gt\", \"$lt\", \"$eq\", etc. zu filtern.\n",
    "In der Lösung zu Teil 1 mit lokalem llama_index VectorStoreIndex ist zurzeit nur exakte Suche möglich.\n",
    "\n",
    "Ich habe dafür einen Workaround implementiert unter scripts/metadata_filtering.py\n",
    "Neben der reinen filterung muss auch die Anfrage per LLM auf mögliche Metadaten Filter geprüft werden.\n",
    "Dazu ist ebenfalls eine Lösung implementiert unter scripts/metadata_filtering.py mit der Nutzung von Langchain.\n",
    "\n",
    "## Next Steps:\n",
    "Um die Anfrage korrekt zu Beantworten, müsste man mit höherem top_k Wert die Ergebnisse der semantischen Suche nochmals im Postprocessing Schritt besser aufbereiten. Dies geht auch gut mit llama_index.\n",
    "\n",
    "\n"
   ],
   "metadata": {
    "collapsed": false
   },
   "id": "54945a7c24784fc8"
  },
  {
   "cell_type": "code",
   "outputs": [
    {
     "name": "stdout",
     "output_type": "stream",
     "text": [
      "=== Antwort ===\n",
      "XBO 1600W XL OFR, XBO 2000 W/HTP XL OFR-Lampenmodell\n",
      "\n",
      "=== Quellen (Top 2) ===\n",
      "Metadata:\n",
      "{'page_label': '2', 'file_name': 'ZMP_1007179_XBO_1600_W_XL_OFR.pdf', 'file_path': 'data\\\\coding_challenge\\\\ZMP_1007179_XBO_1600_W_XL_OFR.pdf', 'file_type': 'application/pdf', 'file_size': 134098, 'creation_date': '1980-01-01', 'last_modified_date': '2024-02-20', 'last_accessed_date': '2024-02-20', 'document_title': 'OSRAM XBO 1600W XL OFR Technical Specifications and Product Information', 'title': 'OSRAM XBO 1600W XL OFR Technical Specifications and Product Information', 'power': 1600, 'lifespan': 3500}\n",
      "Quellcontent:\n",
      "Technische Daten\n",
      "Elektrische Daten\n",
      "Nennstrom 65 A\n",
      "Stromsteuerbereich 45…75 A\n",
      "Nennleistung 1600,00 W\n",
      "Nennspannung 24,0 V\n",
      "Abmessungen & Gewicht\n",
      " \n",
      "Durchmesser 52,0 mm\n",
      "Länge 370,0 mm\n",
      "Länge mit Sockel jedoch ohne Sockelstift 322,00 mm\n",
      "Abstand Lichtschwerpunkt (LCL) 143,0 mm 1)\n",
      "Kabel-/Leitungslänge, Eingangsseite -\n",
      "Elektrodenabstand kalt 4,8 mm\n",
      "Produktgewicht 418,00 g\n",
      "1) Abstand Sockelboden zu Elektrodenspitze (kalt)\n",
      "Temperaturen & Betriebsbedingungen\n",
      "Max. zulässige Umgebungstemp. Quetschung 230 °C\n",
      "Lebensdauer\n",
      "Lebensdauer 3500 h\n",
      "Zusätzliche Produktdaten\n",
      "Sockel Anode (Normbezeichnung) SFaX27-10\n",
      "Sockel Kathode (Normbezeichnung) SFa27-12\n",
      "EinsatzmöglichkeitenProduktdatenblatt\n",
      "__\n",
      "4. Januar 2024, 01:54:02 © 2024, OSRAM GmbH. Alle Rechte vorbehalten.\n",
      "XBO 1600 W XL OFR Seite 2 von 4\n",
      "-----------------------------------\n",
      "\n",
      "Metadata:\n",
      "{'page_label': '2', 'file_name': 'ZMP_1007187_XBO_2000_W_HTP_XL_OFR.pdf', 'file_path': 'data\\\\coding_challenge\\\\ZMP_1007187_XBO_2000_W_HTP_XL_OFR.pdf', 'file_type': 'application/pdf', 'file_size': 136057, 'creation_date': '1980-01-01', 'last_modified_date': '2024-02-20', 'last_accessed_date': '2024-02-20', 'document_title': 'XBO 2000 W/HTP XL OFR-Lampenmodell Technische Daten', 'title': 'XBO 2000 W/HTP XL OFR-Lampenmodell Technische Daten', 'power': 2000, 'lifespan': 3500}\n",
      "Quellcontent:\n",
      "Technische Daten\n",
      "Elektrische Daten\n",
      "Nennstrom 70,00 A\n",
      "Stromsteuerbereich 50…85 A\n",
      "Nennleistung 2000,00 W\n",
      "Nennspannung 28,0 V\n",
      "Abmessungen & Gewicht\n",
      " \n",
      "Durchmesser 52,0 mm\n",
      "Länge 375,0 mm\n",
      "Länge mit Sockel jedoch ohne Sockelstift 322,00 mm\n",
      "Abstand Lichtschwerpunkt (LCL) 142,5 mm 1)\n",
      "Kabel-/Leitungslänge, Eingangsseite -\n",
      "Elektrodenabstand kalt 5,8 mm\n",
      "Produktgewicht 452,00 g\n",
      "1) Abstand Sockelboden zu Elektrodenspitze (kalt)\n",
      "Temperaturen & Betriebsbedingungen\n",
      "Max. zulässige Umgebungstemp. Quetschung 230 °C\n",
      "Lebensdauer\n",
      "Lebensdauer 3500 h\n",
      "Zusätzliche Produktdaten\n",
      "Sockel Anode (Normbezeichnung) SFa25-14\n",
      "Sockel Kathode (Normbezeichnung) SFc25-14\n",
      "EinsatzmöglichkeitenProduktdatenblatt\n",
      "__\n",
      "8. Januar 2024, 22:14:04 © 2024, OSRAM GmbH. Alle Rechte vorbehalten.\n",
      "XBO 2000 W/HTP XL OFR Seite 2 von 4\n",
      "-----------------------------------\n"
     ]
    }
   ],
   "source": [
    "from main import query_with_metadata\n",
    "\n",
    "query_str = \"Gebe mir alle Leuchtmittel mit mindestens 1500W und einer Lebensdauer von mehr als 3000 Stunden\"\n",
    "\n",
    "response = query_with_metadata(query_str, index)"
   ],
   "metadata": {
    "collapsed": false,
    "ExecuteTime": {
     "end_time": "2024-02-20T09:33:22.472083800Z",
     "start_time": "2024-02-20T09:33:18.684805400Z"
    }
   },
   "id": "15c701e0fa37dad1",
   "execution_count": 3
  },
  {
   "cell_type": "markdown",
   "source": [
    "# Teil 3: Verifizierung\n",
    "Welche Möglichkeiten gibt das Ergebnis zu evaluieren / bewerten, ohne dass das zwangsweise von einem Menschen passiert? Welche Metriken / Möglichkeiten existieren, um die Ausgabe mit der Eingabe zu vergleichen und sicherzustellen, dass die Antwort zur Eingabe passt (Gerade bei konkreten Werten, wie Lebensdauer von mehr als 3000 Stunden...)\n",
    "\n",
    "## Antwort:\n",
    "\n",
    "Metrics:\n",
    "Typischerweise werden für die Evaluierung von semantischen Suchen Metriken wie Correctness, Faithfullness, Relevancy. Dies geschieht mit einer Reihe von darauf optimierten Prompts. Also die Ergebnisse der RAG-Pipeline werden wieder mit einem LLM in der Rolle der Judge oder Jury evaluiert.\n",
    "Dabei kann eine End-to-End Evaluierung durchgeführt werden, bei der die Anfrage, die Antwort und die Dokumente mit denen die Antwort generiert wurde, betrachtet werden.\n",
    "Alternativ können auch die einzelnen Komponenten der RAG-Pipeline evaluiert werden.\n",
    "So ist bei der semantischen Suche die Relevanz der gefundenen Dokumente ein wichtiger Faktor.\n",
    "Bei der Antwortgenerierung ist die Qualität der Antwort ein wichtiger Faktor der sich mit Correctness und Faithfullness (nicht halluzinieren).\n",
    "Das Ergebniss multipler Evaluationsanfragen kann dann mit Precision, Recall und F1-Score evaluiert werden.\n",
    "\n",
    "Automatisierte Evaluierung:\n",
    "- Nutzung von Testdatensets wo Ground Truth bekannt ist\n",
    "- Automatisierte Generierung von Anfragen und Generierung von Ground Truth über Majortiy Voting (GPT-4)\n",
    "\n"
   ],
   "metadata": {
    "collapsed": false
   },
   "id": "8429acca111e70ee"
  }
 ],
 "metadata": {
  "kernelspec": {
   "display_name": "Python 3",
   "language": "python",
   "name": "python3"
  },
  "language_info": {
   "codemirror_mode": {
    "name": "ipython",
    "version": 2
   },
   "file_extension": ".py",
   "mimetype": "text/x-python",
   "name": "python",
   "nbconvert_exporter": "python",
   "pygments_lexer": "ipython2",
   "version": "2.7.6"
  }
 },
 "nbformat": 4,
 "nbformat_minor": 5
}
